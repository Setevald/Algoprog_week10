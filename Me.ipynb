{
 "cells": [
  {
   "cell_type": "code",
   "execution_count": 4,
   "metadata": {},
   "outputs": [
    {
     "name": "stdout",
     "output_type": "stream",
     "text": [
      "Both words can be linked with the subword 'cy'.\n"
     ]
    }
   ],
   "source": [
    "#first problem\n",
    "\n",
    "def find_subword(word1, word2):\n",
    "    len_word1 = len(word1)\n",
    "    len_word2 = len(word2)\n",
    "    max_length = min(len_word1, len_word2)\n",
    "    for i in range(1, max_length + 1):\n",
    "        \n",
    "        # last letter of first word == first letter of second word\n",
    "        if word1[-i:] == word2[:i] :\n",
    "            linking_subword = word1[-i:]\n",
    "\n",
    "    return linking_subword\n",
    "\n",
    "def can_be_linked(word1, word2):\n",
    "    if word1[-1] == word2[0]:\n",
    "        return True, word1 + word2[1:]\n",
    "    return False, None\n",
    "\n",
    "def main():\n",
    "    first_word = input(\"Enter the first word: \").lower()\n",
    "    second_word = input(\"Enter the second word: \").lower()\n",
    "\n",
    "    can_link, subword = can_be_linked(first_word, second_word)\n",
    "\n",
    "    if can_link:\n",
    "        print(f\"Both words can be linked with the subword '{subword}'.\")\n",
    "    else:\n",
    "        common_subword = find_subword(first_word, second_word)\n",
    "        if common_subword:\n",
    "            print(f\"Both words can be linked with the subword '{common_subword}'.\")\n",
    "        else:\n",
    "            print(\"Both words cannot be linked.\")\n",
    "\n",
    "if __name__ == \"__main__\":\n",
    "    main()"
   ]
  },
  {
   "cell_type": "code",
   "execution_count": 2,
   "metadata": {},
   "outputs": [
    {
     "name": "stdout",
     "output_type": "stream",
     "text": [
      "The smallest beautiful number by 259 is 777\n"
     ]
    }
   ],
   "source": [
    "#Second Problem\n",
    "\n",
    "numberInput = int(input(\"Number: \"))\n",
    "\n",
    "temp = 0\n",
    "beautifulNum = numberInput\n",
    "                \n",
    "    \n",
    "while temp == 0:\n",
    "    if beautifulNum%numberInput == 0:\n",
    "        numList = []\n",
    "        for x in str(beautifulNum):\n",
    "            if int(x) in numList:\n",
    "                pass\n",
    "            else:\n",
    "                numList.append(int(x))\n",
    "\n",
    "        if len(numList) == 1:\n",
    "            temp += 1\n",
    "            print(f\"The smallest beautiful number by {numberInput} is {beautifulNum}\")\n",
    "\n",
    "    beautifulNum += 1"
   ]
  }
 ],
 "metadata": {
  "kernelspec": {
   "display_name": "project",
   "language": "python",
   "name": "python3"
  },
  "language_info": {
   "codemirror_mode": {
    "name": "ipython",
    "version": 3
   },
   "file_extension": ".py",
   "mimetype": "text/x-python",
   "name": "python",
   "nbconvert_exporter": "python",
   "pygments_lexer": "ipython3",
   "version": "3.11.6"
  }
 },
 "nbformat": 4,
 "nbformat_minor": 2
}
